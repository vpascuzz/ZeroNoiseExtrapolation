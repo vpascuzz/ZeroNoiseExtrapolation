{
 "cells": [
  {
   "cell_type": "code",
   "execution_count": 1,
   "metadata": {},
   "outputs": [
    {
     "name": "stderr",
     "output_type": "stream",
     "text": [
      "/home/vrpascuzzi/.conda/envs/qis/lib/python3.8/site-packages/qiskit/providers/ibmq/ibmqfactory.py:192: UserWarning: Timestamps in IBMQ backend properties, jobs, and job results are all now in local time instead of UTC.\n",
      "  warnings.warn('Timestamps in IBMQ backend properties, jobs, and job results '\n"
     ]
    }
   ],
   "source": [
    "import devicedata"
   ]
  },
  {
   "cell_type": "code",
   "execution_count": 2,
   "metadata": {},
   "outputs": [],
   "source": [
    "# Get properties for a valid/available backend\n",
    "device_raw_data = devicedata.get_device_props('ibmq_valencia')"
   ]
  },
  {
   "cell_type": "code",
   "execution_count": 3,
   "metadata": {},
   "outputs": [
    {
     "data": {
      "text/plain": [
       "{'Qubit': ['Q0', 'Q1', 'Q2', 'Q3', 'Q4'],\n",
       " 'T1 [us]': [151.4733889869281,\n",
       "  87.03068223864996,\n",
       "  135.07407283745255,\n",
       "  46.46836795718874,\n",
       "  81.97814447859837],\n",
       " 'T2 [us]': [59.50285135919381,\n",
       "  58.8637810027199,\n",
       "  66.41972049340688,\n",
       "  39.22181387607635,\n",
       "  138.28545211387188],\n",
       " 'Frequency [GHz]': [4.7438837807992815,\n",
       "  4.657235417546265,\n",
       "  4.792490210214214,\n",
       "  4.834412531501867,\n",
       "  4.959525838813785],\n",
       " 'Readout error': [0.042100000000000026,\n",
       "  0.03610000000000002,\n",
       "  0.03709999999999991,\n",
       "  0.018750000000000044,\n",
       "  0.022499999999999964],\n",
       " 'Single-qubit U2 error rate': [0.00043950444408829057,\n",
       "  0.00047182717193714537,\n",
       "  0.0005470643519943524,\n",
       "  0.00031466657481659695,\n",
       "  0.00033258247239833393],\n",
       " 'CNOT error rate': [[{'cx0_1': 0.0067239269596002516}],\n",
       "  [{'cx1_0': 0.0067239269596002516},\n",
       "   {'cx1_2': 0.012256318873687222},\n",
       "   {'cx1_3': 0.012064990117937158}],\n",
       "  [{'cx2_1': 0.012256318873687222}],\n",
       "  [{'cx3_1': 0.012064990117937158}, {'cx3_4': 0.010602902315465013}],\n",
       "  [{'cx4_3': 0.010602902315465013}]],\n",
       " 'Last update date': [datetime.datetime(2020, 10, 13, 1, 23, 4, tzinfo=tzlocal()),\n",
       "  datetime.datetime(2020, 10, 13, 1, 23, 4, tzinfo=tzlocal()),\n",
       "  datetime.datetime(2020, 10, 13, 1, 23, 4, tzinfo=tzlocal()),\n",
       "  datetime.datetime(2020, 10, 13, 1, 23, 4, tzinfo=tzlocal()),\n",
       "  datetime.datetime(2020, 10, 13, 1, 23, 4, tzinfo=tzlocal())]}"
      ]
     },
     "execution_count": 3,
     "metadata": {},
     "output_type": "execute_result"
    }
   ],
   "source": [
    "# Print raw data as dictionary\n",
    "device_raw_data"
   ]
  },
  {
   "cell_type": "code",
   "execution_count": 4,
   "metadata": {},
   "outputs": [],
   "source": [
    "# Test writing data to csv\n",
    "df = devicedata.write_device_props_csv(device_raw_data)"
   ]
  },
  {
   "cell_type": "code",
   "execution_count": 5,
   "metadata": {},
   "outputs": [
    {
     "data": {
      "text/html": [
       "<div>\n",
       "<style scoped>\n",
       "    .dataframe tbody tr th:only-of-type {\n",
       "        vertical-align: middle;\n",
       "    }\n",
       "\n",
       "    .dataframe tbody tr th {\n",
       "        vertical-align: top;\n",
       "    }\n",
       "\n",
       "    .dataframe thead th {\n",
       "        text-align: right;\n",
       "    }\n",
       "</style>\n",
       "<table border=\"1\" class=\"dataframe\">\n",
       "  <thead>\n",
       "    <tr style=\"text-align: right;\">\n",
       "      <th></th>\n",
       "      <th>Qubit</th>\n",
       "      <th>T1 [us]</th>\n",
       "      <th>T2 [us]</th>\n",
       "      <th>Frequency [GHz]</th>\n",
       "      <th>Readout error</th>\n",
       "      <th>Single-qubit U2 error rate</th>\n",
       "      <th>CNOT error rate</th>\n",
       "      <th>Last update date</th>\n",
       "    </tr>\n",
       "  </thead>\n",
       "  <tbody>\n",
       "    <tr>\n",
       "      <th>0</th>\n",
       "      <td>Q0</td>\n",
       "      <td>151.473389</td>\n",
       "      <td>59.502851</td>\n",
       "      <td>4.743884</td>\n",
       "      <td>0.04210</td>\n",
       "      <td>0.000440</td>\n",
       "      <td>[{'cx0_1': 0.0067239269596002516}]</td>\n",
       "      <td>2020-10-13 01:23:04-07:00</td>\n",
       "    </tr>\n",
       "    <tr>\n",
       "      <th>1</th>\n",
       "      <td>Q1</td>\n",
       "      <td>87.030682</td>\n",
       "      <td>58.863781</td>\n",
       "      <td>4.657235</td>\n",
       "      <td>0.03610</td>\n",
       "      <td>0.000472</td>\n",
       "      <td>[{'cx1_0': 0.0067239269596002516}, {'cx1_2': 0...</td>\n",
       "      <td>2020-10-13 01:23:04-07:00</td>\n",
       "    </tr>\n",
       "    <tr>\n",
       "      <th>2</th>\n",
       "      <td>Q2</td>\n",
       "      <td>135.074073</td>\n",
       "      <td>66.419720</td>\n",
       "      <td>4.792490</td>\n",
       "      <td>0.03710</td>\n",
       "      <td>0.000547</td>\n",
       "      <td>[{'cx2_1': 0.012256318873687222}]</td>\n",
       "      <td>2020-10-13 01:23:04-07:00</td>\n",
       "    </tr>\n",
       "    <tr>\n",
       "      <th>3</th>\n",
       "      <td>Q3</td>\n",
       "      <td>46.468368</td>\n",
       "      <td>39.221814</td>\n",
       "      <td>4.834413</td>\n",
       "      <td>0.01875</td>\n",
       "      <td>0.000315</td>\n",
       "      <td>[{'cx3_1': 0.012064990117937158}, {'cx3_4': 0....</td>\n",
       "      <td>2020-10-13 01:23:04-07:00</td>\n",
       "    </tr>\n",
       "    <tr>\n",
       "      <th>4</th>\n",
       "      <td>Q4</td>\n",
       "      <td>81.978144</td>\n",
       "      <td>138.285452</td>\n",
       "      <td>4.959526</td>\n",
       "      <td>0.02250</td>\n",
       "      <td>0.000333</td>\n",
       "      <td>[{'cx4_3': 0.010602902315465013}]</td>\n",
       "      <td>2020-10-13 01:23:04-07:00</td>\n",
       "    </tr>\n",
       "  </tbody>\n",
       "</table>\n",
       "</div>"
      ],
      "text/plain": [
       "  Qubit     T1 [us]     T2 [us]  Frequency [GHz]  Readout error  \\\n",
       "0    Q0  151.473389   59.502851         4.743884        0.04210   \n",
       "1    Q1   87.030682   58.863781         4.657235        0.03610   \n",
       "2    Q2  135.074073   66.419720         4.792490        0.03710   \n",
       "3    Q3   46.468368   39.221814         4.834413        0.01875   \n",
       "4    Q4   81.978144  138.285452         4.959526        0.02250   \n",
       "\n",
       "   Single-qubit U2 error rate  \\\n",
       "0                    0.000440   \n",
       "1                    0.000472   \n",
       "2                    0.000547   \n",
       "3                    0.000315   \n",
       "4                    0.000333   \n",
       "\n",
       "                                     CNOT error rate          Last update date  \n",
       "0                 [{'cx0_1': 0.0067239269596002516}] 2020-10-13 01:23:04-07:00  \n",
       "1  [{'cx1_0': 0.0067239269596002516}, {'cx1_2': 0... 2020-10-13 01:23:04-07:00  \n",
       "2                  [{'cx2_1': 0.012256318873687222}] 2020-10-13 01:23:04-07:00  \n",
       "3  [{'cx3_1': 0.012064990117937158}, {'cx3_4': 0.... 2020-10-13 01:23:04-07:00  \n",
       "4                  [{'cx4_3': 0.010602902315465013}] 2020-10-13 01:23:04-07:00  "
      ]
     },
     "execution_count": 5,
     "metadata": {},
     "output_type": "execute_result"
    }
   ],
   "source": [
    "# Print DataFrame\n",
    "df"
   ]
  },
  {
   "cell_type": "code",
   "execution_count": 6,
   "metadata": {},
   "outputs": [
    {
     "data": {
      "text/plain": [
       "['Q0', 'Q2', 'Q3']"
      ]
     },
     "execution_count": 6,
     "metadata": {},
     "output_type": "execute_result"
    }
   ],
   "source": [
    "# Get the list of qubits connected to Q1 via CNOT gate\n",
    "devicedata.get_cx_connected_qubits(df, 1)"
   ]
  },
  {
   "cell_type": "code",
   "execution_count": 7,
   "metadata": {},
   "outputs": [
    {
     "name": "stdout",
     "output_type": "stream",
     "text": [
      "cx1_3\n",
      "dict_keys(['cx1_0'])\n",
      "dict_keys(['cx1_2'])\n",
      "dict_keys(['cx1_3'])\n"
     ]
    },
    {
     "data": {
      "text/plain": [
       "<generator object get_cx_error_rate.<locals>.<genexpr> at 0x7f7aa601a270>"
      ]
     },
     "execution_count": 7,
     "metadata": {},
     "output_type": "execute_result"
    }
   ],
   "source": [
    "devicedata.get_cx_error_rate(df, 1, 3)"
   ]
  },
  {
   "cell_type": "code",
   "execution_count": null,
   "metadata": {},
   "outputs": [],
   "source": []
  }
 ],
 "metadata": {
  "kernelspec": {
   "display_name": "Python 3",
   "language": "python",
   "name": "python3"
  },
  "language_info": {
   "codemirror_mode": {
    "name": "ipython",
    "version": 3
   },
   "file_extension": ".py",
   "mimetype": "text/x-python",
   "name": "python",
   "nbconvert_exporter": "python",
   "pygments_lexer": "ipython3",
   "version": "3.8.5"
  }
 },
 "nbformat": 4,
 "nbformat_minor": 4
}
